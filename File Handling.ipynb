{
 "cells": [
  {
   "cell_type": "markdown",
   "id": "dccf22bc",
   "metadata": {},
   "source": [
    "## File handling\n",
    "File handling is the process of performing operations on files, such as creating, opening, reading, writing, and closing them. It is a fundamental part of programming and is essential for tasks that involve data storage and retrieval.\n",
    "### How File I/O is done in most programming languages\n",
    "\n",
    "- Open a file\n",
    "- Read/Write data\n",
    "- Close the file"
   ]
  },
  {
   "cell_type": "code",
   "execution_count": 71,
   "id": "6eeccb0d",
   "metadata": {},
   "outputs": [
    {
     "data": {
      "text/plain": [
       "11"
      ]
     },
     "execution_count": 71,
     "metadata": {},
     "output_type": "execute_result"
    }
   ],
   "source": [
    "# write mode\n",
    "f = open(\"file.txt\" ,'w') # {w} for write \n",
    "# writing\n",
    "f.write(\"hello world\")"
   ]
  },
  {
   "cell_type": "code",
   "execution_count": 72,
   "id": "e3dee3c5",
   "metadata": {},
   "outputs": [
    {
     "name": "stdout",
     "output_type": "stream",
     "text": [
      "<class '_io.TextIOWrapper'>\n"
     ]
    }
   ],
   "source": [
    "# to check type\n",
    "print(type(file))"
   ]
  },
  {
   "cell_type": "code",
   "execution_count": 79,
   "id": "2773fc4d",
   "metadata": {},
   "outputs": [
    {
     "name": "stdout",
     "output_type": "stream",
     "text": [
      "file name is  file.txt\n",
      "mode of file  r\n",
      "True\n",
      "False\n"
     ]
    }
   ],
   "source": [
    "# to check file name\n",
    "print(\"file name is \",file.name)\n",
    "# to check mode of file\n",
    "print(\"mode of file \",file.mode)\n",
    "# to check file is readable mode\n",
    "print(file.readable())\n",
    "# to check file is writeable mode\n",
    "print(file.writable())"
   ]
  },
  {
   "cell_type": "code",
   "execution_count": 74,
   "id": "3fd373cd",
   "metadata": {},
   "outputs": [],
   "source": [
    "# if the file is already present\n",
    "\n",
    "f= open (\"file.txt\",'w') \n",
    "\n",
    "f.write(\"how are you\")\n",
    "\n",
    "f.close()"
   ]
  },
  {
   "cell_type": "code",
   "execution_count": 75,
   "id": "c704e54a",
   "metadata": {},
   "outputs": [],
   "source": [
    "# file open in append mode\n",
    "f = open(\"file.txt\",'a')  # {a} for (append)write \n",
    "f.write('\\nfine')\n",
    "f.close()"
   ]
  },
  {
   "cell_type": "code",
   "execution_count": 81,
   "id": "9e4c8fee",
   "metadata": {},
   "outputs": [],
   "source": [
    "# write lines\n",
    "Lines = [\"\\n1\",'\\n2','\\n3','\\n4','\\n5','\\n6','\\n7','\\n8','\\n9','\\n10']\n",
    "\n",
    "f = open(\"file.txt\",'a') # {a} for (append)write \n",
    "\n",
    "f.writelines(Lines)\n",
    "f.close()"
   ]
  },
  {
   "cell_type": "code",
   "execution_count": 77,
   "id": "27b4b5d2",
   "metadata": {},
   "outputs": [
    {
     "name": "stdout",
     "output_type": "stream",
     "text": [
      "how many times you want to add data = 1\n",
      "enter name = ali\n",
      "ali\n",
      "\n"
     ]
    }
   ],
   "source": [
    "# write data in file using loop\n",
    "\n",
    "# Open file for write\n",
    "file = open(\"file.txt\", mode=\"w\") # {w} for write \n",
    "list1 =[]\n",
    "num = int(input(\"how many times you want to add data = \"))\n",
    "for i in range(num):\n",
    "    name = input(\"enter name = \")\n",
    "    list1.append(name +\"\\n\")\n",
    "file.writelines(list1)\n",
    "\n",
    "# to close file\n",
    "file.close()\n",
    " \n",
    "# to read data from file\n",
    "file = open(\"file.txt\", mode=\"r\")\n",
    "data=file.read()\n",
    "print(data)\n",
    "\n"
   ]
  },
  {
   "cell_type": "markdown",
   "id": "b720a8be",
   "metadata": {},
   "source": [
    "## Read file "
   ]
  },
  {
   "cell_type": "code",
   "execution_count": 78,
   "id": "973c67e0",
   "metadata": {},
   "outputs": [
    {
     "name": "stdout",
     "output_type": "stream",
     "text": [
      "File is open\n"
     ]
    }
   ],
   "source": [
    "# Open file for reading\n",
    "f = open(\"file.txt\", mode=\"r\")# {r} for read and {w} for write \n",
    "# to check file is open\n",
    "if not file.closed:\n",
    "    print(\"File is open\")\n"
   ]
  },
  {
   "cell_type": "code",
   "execution_count": 66,
   "id": "c524b8f0",
   "metadata": {},
   "outputs": [
    {
     "name": "stdout",
     "output_type": "stream",
     "text": [
      "how are you\n"
     ]
    }
   ],
   "source": [
    "f = open(\"file.txt\", mode=\"r\")# {r} for read and {w} for write \n",
    "\n",
    "data = f.read()\n",
    "print(data)\n",
    "f.close()"
   ]
  },
  {
   "cell_type": "code",
   "execution_count": 48,
   "id": "17ea6704",
   "metadata": {},
   "outputs": [
    {
     "name": "stdout",
     "output_type": "stream",
     "text": [
      "ali\n",
      "\n",
      "['ahmed\\n', '12345678910\\n', '1\\n', '2\\n', '3\\n', '4\\n', '5\\n', '6\\n', '7\\n', '8\\n', '9\\n', '10']\n"
     ]
    }
   ],
   "source": [
    "# Open file for reading\n",
    "file = open(\"file.txt\", mode=\"r\")# {r} for read \n",
    "\n",
    "print(file.readline()) # read one line only\n",
    "print(file.readlines()) #  read all line form list\n",
    "# to close file\n",
    "file.close()"
   ]
  },
  {
   "cell_type": "code",
   "execution_count": 50,
   "id": "9acec74c",
   "metadata": {},
   "outputs": [
    {
     "name": "stdout",
     "output_type": "stream",
     "text": [
      "ali\n",
      "ahmed\n",
      "12345678910\n",
      "1\n",
      "2\n",
      "3\n",
      "4\n",
      "5\n",
      "6\n",
      "7\n",
      "8\n",
      "9\n",
      "10"
     ]
    }
   ],
   "source": [
    "# read data\n",
    "\n",
    "# Open file for reading\n",
    "file = open(\"file.txt\", mode=\"r\")# {r} for read \n",
    "#print data in file using \n",
    "for line in file:\n",
    "    print(line ,end =\"\")  # Print each line, removing trailing newline characters\n",
    "    \n",
    "# to close file\n",
    "file.close()"
   ]
  },
  {
   "cell_type": "markdown",
   "id": "ca5f6b75",
   "metadata": {},
   "source": [
    "### Using Context Manager (With)\n",
    "\n",
    "- It's a good idea to close a file after usage as it will free up the resources\n",
    "- If we dont close it, garbage collector would close it\n",
    "- with keyword closes the file as soon as the usage is over"
   ]
  },
  {
   "cell_type": "code",
   "execution_count": null,
   "id": "c20f876e",
   "metadata": {},
   "outputs": [],
   "source": [
    "# with for write file \n",
    "with open('file.txt','w') as f:\n",
    "    f.write('hello')"
   ]
  },
  {
   "cell_type": "code",
   "execution_count": 82,
   "id": "00ce114a",
   "metadata": {},
   "outputs": [
    {
     "name": "stdout",
     "output_type": "stream",
     "text": [
      "ali\n",
      "\n",
      "1\n",
      "2\n",
      "3\n",
      "4\n",
      "5\n",
      "6\n",
      "7\n",
      "8\n",
      "9\n",
      "10\n"
     ]
    }
   ],
   "source": [
    "# with for read file \n",
    "\n",
    "with open('file.txt','r') as f:\n",
    "    print(f.read())"
   ]
  },
  {
   "cell_type": "code",
   "execution_count": 83,
   "id": "fe30b661",
   "metadata": {},
   "outputs": [
    {
     "name": "stdout",
     "output_type": "stream",
     "text": [
      "ali\n",
      "\n",
      "1\n",
      "2\n",
      "3\n",
      "\n",
      "4\n",
      "5\n",
      "6\n",
      "7\n",
      "8\n",
      "\n",
      "9\n",
      "10\n"
     ]
    }
   ],
   "source": [
    "# moving within a file -> 10 char then 10 char\n",
    "with open('file.txt','r') as f:\n",
    "    print(f.read(10))\n",
    "    print(f.read(10))\n",
    "    print(f.read(10))    "
   ]
  },
  {
   "cell_type": "markdown",
   "id": "a9eebd32",
   "metadata": {},
   "source": [
    "### Serialization and Deserialization\n",
    "\n",
    "- **Serialization** - process of converting python data types to JSON format\n",
    "- **Deserialization** - process of converting JSON to python data types"
   ]
  },
  {
   "cell_type": "code",
   "execution_count": 84,
   "id": "255cd65c",
   "metadata": {},
   "outputs": [],
   "source": [
    "# serialization using json module\n",
    "# list\n",
    "import json\n",
    "\n",
    "L = [1,2,3,4]\n",
    "\n",
    "with open('demo.json','w') as f:\n",
    "    json.dump(L,f)\n"
   ]
  },
  {
   "cell_type": "code",
   "execution_count": 86,
   "id": "ee6cccb4",
   "metadata": {},
   "outputs": [],
   "source": [
    "# dict\n",
    "d = {\n",
    "    'name':'amir',\n",
    "     'age':20,\n",
    "     'gender':'male'\n",
    "}\n",
    "\n",
    "with open('demo.json','w') as f:\n",
    "    json.dump(d,f,indent=4)"
   ]
  },
  {
   "cell_type": "code",
   "execution_count": 87,
   "id": "fb0f5ab1",
   "metadata": {},
   "outputs": [
    {
     "name": "stdout",
     "output_type": "stream",
     "text": [
      "{'name': 'amir', 'age': 20, 'gender': 'male'}\n",
      "<class 'dict'>\n"
     ]
    }
   ],
   "source": [
    "# deserialization\n",
    "import json\n",
    "\n",
    "with open('demo.json','r') as f:\n",
    "    d = json.load(f)\n",
    "    print(d)\n",
    "    print(type(d))"
   ]
  },
  {
   "cell_type": "code",
   "execution_count": 89,
   "id": "58989c8b",
   "metadata": {},
   "outputs": [
    {
     "name": "stdout",
     "output_type": "stream",
     "text": [
      "{'student': 'nitish', 'marks': [23, 14, 34, 45, 56]}\n"
     ]
    }
   ],
   "source": [
    "# serialize and deserialize a nested dict\n",
    "\n",
    "d = {\n",
    "    'student':'nitish',\n",
    "     'marks':[23,14,34,45,56]\n",
    "}\n",
    "\n",
    "with open('demo.json','w') as f:\n",
    "    json.dump(d,f)\n",
    "    \n",
    "with open('demo.json','r') as f:\n",
    "    d = json.load(f)\n",
    "    print(d)\n"
   ]
  },
  {
   "cell_type": "code",
   "execution_count": 92,
   "id": "a25a3120",
   "metadata": {},
   "outputs": [
    {
     "name": "stdout",
     "output_type": "stream",
     "text": [
      "how many times you want to enter data of employess = 2\n",
      "enter id of employee : 101\n",
      "enter name of employee : ali\n",
      "enter attendance status p/a : p\n",
      "enter id of employee : 102\n",
      "enter name of employee : ahmed\n",
      "enter attendance status p/a : a\n"
     ]
    }
   ],
   "source": [
    "# csv file\n",
    "import csv\n",
    "file=open(\"file.csv\",mode=\"w\",newline='')\n",
    "\n",
    "empdata=csv.writer(file) # write data in csv file \n",
    "empdata.writerow([\"emp id\",\"emp name\",\"attendance status\"])# make header/coloum of file \n",
    "\n",
    "num= int(input(\"how many times you want to enter data of employess = \"))\n",
    "\n",
    "for i in range(num):\n",
    "    #input data from user\n",
    "    empid=input(\"enter id of employee : \")\n",
    "    empname=input(\"enter name of employee : \")\n",
    "    attendance_status=input(\"enter attendance status p/a : \")\n",
    "    empinfo=[empid,empname,attendance_status] # make list od data\n",
    "    empdata.writerow(empinfo) # write list into csv file row vise\n",
    "\n",
    "# to close file  \n",
    "file.close()"
   ]
  },
  {
   "cell_type": "code",
   "execution_count": 93,
   "id": "bf6a0d4b",
   "metadata": {},
   "outputs": [
    {
     "name": "stdout",
     "output_type": "stream",
     "text": [
      "['emp id', 'emp name', 'attendance status']\n",
      "['101', 'ali', 'p']\n",
      "['102', 'ahmed', 'a']\n"
     ]
    }
   ],
   "source": [
    "# read data from csv\n",
    "file=open(\"file.csv\",mode=\"r\")# opening file for read mode\n",
    "empdata=csv.reader(file) # reading data\n",
    "# using loop to display data\n",
    "for i in empdata:\n",
    "    print(i)\n",
    "    \n",
    "    \n",
    "    "
   ]
  }
 ],
 "metadata": {
  "kernelspec": {
   "display_name": "Python 3 (ipykernel)",
   "language": "python",
   "name": "python3"
  },
  "language_info": {
   "codemirror_mode": {
    "name": "ipython",
    "version": 3
   },
   "file_extension": ".py",
   "mimetype": "text/x-python",
   "name": "python",
   "nbconvert_exporter": "python",
   "pygments_lexer": "ipython3",
   "version": "3.11.5"
  }
 },
 "nbformat": 4,
 "nbformat_minor": 5
}
