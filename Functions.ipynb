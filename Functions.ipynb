{
 "cells": [
  {
   "cell_type": "markdown",
   "id": "869a1836",
   "metadata": {},
   "source": [
    "## Function\n",
    "Functions are reusable blocks of code that perform a specific task. They help in organizing code, making it more modular, readable, and maintainable. Functions can take inputs, called arguments or parameters, and can return outputs."
   ]
  },
  {
   "cell_type": "code",
   "execution_count": 1,
   "id": "bf0bfc47",
   "metadata": {},
   "outputs": [],
   "source": [
    "   def check_number(num): # num is parameter\n",
    "        \"\"\"\n",
    "        this function check the nummber is even or odd  \n",
    "        input -> any int number\n",
    "        output -> even or odd\n",
    "        \"\"\"\n",
    "        if num % 2 == 0:\n",
    "            return 'even'\n",
    "        else :\n",
    "            return \"odd\"\n",
    "        "
   ]
  },
  {
   "cell_type": "code",
   "execution_count": 6,
   "id": "24bc8ac8",
   "metadata": {},
   "outputs": [
    {
     "data": {
      "text/plain": [
       "'even'"
      ]
     },
     "execution_count": 6,
     "metadata": {},
     "output_type": "execute_result"
    }
   ],
   "source": [
    "check_number(44) # 44 is arguments"
   ]
  },
  {
   "cell_type": "markdown",
   "id": "2cb61225",
   "metadata": {},
   "source": [
    "### Types of Arguments\n",
    "\n",
    "- Default Argument\n",
    "- Positional Argument\n",
    "- Keyword Argument"
   ]
  },
  {
   "cell_type": "markdown",
   "id": "ffe62b05",
   "metadata": {},
   "source": [
    "# default Argument\n",
    "A default argument is one that takes a default value if no argument value is passed during the function call. You define a default argument by assigning it a value in the function definition."
   ]
  },
  {
   "cell_type": "code",
   "execution_count": 25,
   "id": "ad660793",
   "metadata": {},
   "outputs": [
    {
     "name": "stdout",
     "output_type": "stream",
     "text": [
      "2\n",
      "4\n"
     ]
    }
   ],
   "source": [
    "def mul(a=1,b=1):\n",
    "    \"\"\"\n",
    "    this function product of two number\n",
    "    input -> two int number\n",
    "    output -> product of two number\n",
    "    \"\"\"\n",
    "    return a*b\n",
    "\n",
    "# if one argument is given\n",
    "print(mul(2))\n",
    "\n",
    "# if all argument is given\n",
    "print(mul(2,2))\n",
    "\n"
   ]
  },
  {
   "cell_type": "code",
   "execution_count": 27,
   "id": "7141cdc1",
   "metadata": {},
   "outputs": [
    {
     "name": "stdout",
     "output_type": "stream",
     "text": [
      "\n",
      "    this function product of two number\n",
      "    input -> two int number\n",
      "    output -> product of two number\n",
      "    \n"
     ]
    }
   ],
   "source": [
    "# how to access docment of function\n",
    "print(mul.__doc__)"
   ]
  },
  {
   "cell_type": "markdown",
   "id": "52f035c3",
   "metadata": {},
   "source": [
    "# Positional Argument\n",
    "Positional arguments are the most straightforward. They are assigned based on the order in which they are passed to the function."
   ]
  },
  {
   "cell_type": "code",
   "execution_count": 11,
   "id": "8d4c7586",
   "metadata": {},
   "outputs": [
    {
     "data": {
      "text/plain": [
       "6"
      ]
     },
     "execution_count": 11,
     "metadata": {},
     "output_type": "execute_result"
    }
   ],
   "source": [
    "mul(2,3)"
   ]
  },
  {
   "cell_type": "markdown",
   "id": "b467166e",
   "metadata": {},
   "source": [
    "## Keyword Arguments\n",
    "Keyword arguments are passed by explicitly naming each parameter along with its corresponding value."
   ]
  },
  {
   "cell_type": "code",
   "execution_count": 13,
   "id": "f6edf583",
   "metadata": {},
   "outputs": [
    {
     "data": {
      "text/plain": [
       "6"
      ]
     },
     "execution_count": 13,
     "metadata": {},
     "output_type": "execute_result"
    }
   ],
   "source": [
    "mul(b=3,a=2)"
   ]
  },
  {
   "cell_type": "markdown",
   "id": "a3dc74ce",
   "metadata": {},
   "source": [
    "## *args and **kwargs\n",
    "`*args and **kwargs` are special Python keywords that are used to pass the variable length of arguments to a function"
   ]
  },
  {
   "cell_type": "markdown",
   "id": "1b3b9e3d",
   "metadata": {},
   "source": [
    "## *args\n",
    "- allows us to pass a variable number of non-keyword arguments to a function."
   ]
  },
  {
   "cell_type": "code",
   "execution_count": 21,
   "id": "65674f4a",
   "metadata": {},
   "outputs": [],
   "source": [
    "def mul(*args):\n",
    "    \"\"\"\n",
    "    this function product of infinite number\n",
    "    input -> int number\n",
    "    output -> sum of two number\n",
    "    \"\"\"\n",
    "    product = 1\n",
    "    \n",
    "    for i in args:\n",
    "        product = product *i\n",
    "        \n",
    "    return product\n",
    "\n",
    "def sum_num(*num):\n",
    "    \"\"\"\n",
    "    this function product of infinite number\n",
    "    input -> int number\n",
    "    output -> sum of two number\n",
    "    \"\"\"\n",
    "    sum_all = 0\n",
    "    \n",
    "    for i in num:\n",
    "        sum_all = sum_all + i\n",
    "        \n",
    "    return sum_all"
   ]
  },
  {
   "cell_type": "code",
   "execution_count": 24,
   "id": "207bb6dd",
   "metadata": {},
   "outputs": [
    {
     "name": "stdout",
     "output_type": "stream",
     "text": [
      "product : 6\n",
      "product : 362880\n",
      "sum : 3\n",
      "sum : 45\n"
     ]
    }
   ],
   "source": [
    "print(\"product :\",mul(1,2,3))\n",
    "print(\"product :\",mul(1,2,3,4,5,6,7,8,9))\n",
    "\n",
    "print(\"sum :\",sum_num(1,2))\n",
    "print(\"sum :\",sum_num(1,2,3,4,5,6,7,8,9))"
   ]
  },
  {
   "cell_type": "markdown",
   "id": "d2e4ae66",
   "metadata": {},
   "source": [
    "##  **kwargs\n",
    "- **kwargs allows us to pass any number of keyword arguments.\n",
    "- Keyword arguments mean that they contain a key-value pair, like a Python dictionary."
   ]
  },
  {
   "cell_type": "code",
   "execution_count": 29,
   "id": "8555141f",
   "metadata": {},
   "outputs": [
    {
     "name": "stdout",
     "output_type": "stream",
     "text": [
      "a : 1\n",
      "b : 2\n",
      "c : 3\n"
     ]
    }
   ],
   "source": [
    "def merge_dicts(**kwargs):\n",
    "    \n",
    "    result = {}\n",
    "    for key, value in kwargs.items():\n",
    "        print(key ,':',value)\n",
    "\n",
    "merged = merge_dicts(a=1, b=2, c=3)"
   ]
  },
  {
   "cell_type": "markdown",
   "id": "677c256d",
   "metadata": {},
   "source": [
    "### Points to remember while using `*args and **kwargs`\n",
    "\n",
    "- order of the arguments matter(normal -> `*args` -> `**kwargs`)\n",
    "- The words “args” and “kwargs” are only a convention, you can use any name of your choice\n"
   ]
  },
  {
   "cell_type": "code",
   "execution_count": 30,
   "id": "aa98ee59",
   "metadata": {},
   "outputs": [
    {
     "name": "stdout",
     "output_type": "stream",
     "text": [
      "a: 1, b: 3\n",
      "args: (4, 5)\n",
      "kwargs: {'x': 10, 'y': 20}\n"
     ]
    }
   ],
   "source": [
    "def mixed_function(a, b=2, *args, **kwargs):\n",
    "    print(f\"a: {a}, b: {b}\")\n",
    "    print(f\"args: {args}\")\n",
    "    print(f\"kwargs: {kwargs}\")\n",
    "\n",
    "mixed_function(1, 3, 4, 5, x=10, y=20)"
   ]
  },
  {
   "cell_type": "markdown",
   "id": "89fbe20d",
   "metadata": {},
   "source": [
    "## Nested functions\n",
    "nested functions are functions defined within other functions. These nested functions have access to the variables in the enclosing function's scope, which can be useful "
   ]
  },
  {
   "cell_type": "code",
   "execution_count": 33,
   "id": "6a01eee0",
   "metadata": {},
   "outputs": [
    {
     "name": "stdout",
     "output_type": "stream",
     "text": [
      "1\n",
      "2\n"
     ]
    }
   ],
   "source": [
    "def outer_function():\n",
    "    outer_var = \"1\"\n",
    "\n",
    "    def inner_function():\n",
    "        print(outer_var)  # accessing the variable from the outer function\n",
    "\n",
    "    inner_function()\n",
    "    print(\"2\")\n",
    "\n",
    "outer_function() \n"
   ]
  },
  {
   "cell_type": "code",
   "execution_count": 35,
   "id": "dcbafde9",
   "metadata": {},
   "outputs": [
    {
     "name": "stdout",
     "output_type": "stream",
     "text": [
      "Hello, Ali\n"
     ]
    }
   ],
   "source": [
    "def greeting(name):\n",
    "    def get_message():\n",
    "        return \"Hello, \"\n",
    "\n",
    "    result = get_message() + name\n",
    "    return result\n",
    "\n",
    "print(greeting(\"Ali\")) \n"
   ]
  },
  {
   "cell_type": "markdown",
   "id": "615ec734",
   "metadata": {},
   "source": [
    "## lambda function \n",
    "A lambda function in Python is a small, anonymous function defined using the lambda keyword. Unlike regular functions defined with def, lambda functions can have only a single expression and are often used for short, simple operations."
   ]
  },
  {
   "cell_type": "code",
   "execution_count": 36,
   "id": "59b1e4cd",
   "metadata": {},
   "outputs": [
    {
     "data": {
      "text/plain": [
       "4"
      ]
     },
     "execution_count": 36,
     "metadata": {},
     "output_type": "execute_result"
    }
   ],
   "source": [
    "square =lambda x:x**2\n",
    "square(2)"
   ]
  },
  {
   "cell_type": "code",
   "execution_count": 38,
   "id": "b415599b",
   "metadata": {},
   "outputs": [
    {
     "data": {
      "text/plain": [
       "6"
      ]
     },
     "execution_count": 38,
     "metadata": {},
     "output_type": "execute_result"
    }
   ],
   "source": [
    "mul= lambda x,y: x*y\n",
    "mul(2,3)"
   ]
  },
  {
   "cell_type": "markdown",
   "id": "5a488a53",
   "metadata": {},
   "source": [
    "#### Diff between lambda vs Normal Function\n",
    "\n",
    "- No name\n",
    "- lambda has no return value(infact,returns a function)\n",
    "- lambda is written in 1 line\n",
    "- not reusable\n",
    "\n",
    "Then why use lambda functions?<br>\n",
    "**They are used with HOF**\n"
   ]
  },
  {
   "cell_type": "code",
   "execution_count": 40,
   "id": "89f1f032",
   "metadata": {},
   "outputs": [
    {
     "data": {
      "text/plain": [
       "True"
      ]
     },
     "execution_count": 40,
     "metadata": {},
     "output_type": "execute_result"
    }
   ],
   "source": [
    "# check if a string has 'a'\n",
    "a= lambda s : \"a\" in s\n",
    "a(\"amir\")"
   ]
  },
  {
   "cell_type": "code",
   "execution_count": 42,
   "id": "0bade6bd",
   "metadata": {},
   "outputs": [
    {
     "data": {
      "text/plain": [
       "'even'"
      ]
     },
     "execution_count": 42,
     "metadata": {},
     "output_type": "execute_result"
    }
   ],
   "source": [
    "# odd or even\n",
    "fun= lambda x :\"even\" if x % 2 == 0 else \"odd\"\n",
    "fun(2)"
   ]
  },
  {
   "cell_type": "markdown",
   "id": "1a528e70",
   "metadata": {},
   "source": [
    "## Higher-Order Functions\n",
    "- Accepts Functions as Arguments\n",
    "- Returns a Function"
   ]
  },
  {
   "cell_type": "code",
   "execution_count": 43,
   "id": "2444663d",
   "metadata": {},
   "outputs": [
    {
     "name": "stdout",
     "output_type": "stream",
     "text": [
      "25\n"
     ]
    }
   ],
   "source": [
    "def apply_function(func, value):\n",
    "    return func(value)\n",
    "\n",
    "#  simple function to be used as an argument\n",
    "def square(x):\n",
    "    return x * x\n",
    "\n",
    "# using the higher-order function\n",
    "result = apply_function(square, 5)\n",
    "print(result)  \n"
   ]
  },
  {
   "cell_type": "code",
   "execution_count": 44,
   "id": "65aa2e08",
   "metadata": {},
   "outputs": [
    {
     "name": "stdout",
     "output_type": "stream",
     "text": [
      "10\n",
      "15\n"
     ]
    }
   ],
   "source": [
    "def make_multiplier(factor):\n",
    "    def multiplier(x):\n",
    "        return x * factor\n",
    "    return multiplier\n",
    "\n",
    "# creating new functions using the higher-order function\n",
    "double = make_multiplier(2)\n",
    "triple = make_multiplier(3)\n",
    "\n",
    "print(double(5)) \n",
    "print(triple(5))  \n"
   ]
  },
  {
   "cell_type": "markdown",
   "id": "cbd1f15d",
   "metadata": {},
   "source": [
    "##  map"
   ]
  },
  {
   "cell_type": "code",
   "execution_count": 51,
   "id": "1d844e60",
   "metadata": {},
   "outputs": [
    {
     "name": "stdout",
     "output_type": "stream",
     "text": [
      "[1, 4, 9, 16, 25]\n"
     ]
    }
   ],
   "source": [
    "number =[1,2,3,4,5]\n",
    "fun = map(lambda x:x**2 ,number)\n",
    "print(list(fun))"
   ]
  },
  {
   "cell_type": "code",
   "execution_count": 53,
   "id": "42e9aa1e",
   "metadata": {},
   "outputs": [
    {
     "data": {
      "text/plain": [
       "['odd', 'even', 'odd', 'even', 'odd']"
      ]
     },
     "execution_count": 53,
     "metadata": {},
     "output_type": "execute_result"
    }
   ],
   "source": [
    "# odd/even labelling of list items\n",
    "L = [1,2,3,4,5]\n",
    "list(map(lambda x:'even' if x%2 == 0 else 'odd',L))"
   ]
  },
  {
   "cell_type": "markdown",
   "id": "da519756",
   "metadata": {},
   "source": [
    "## filter"
   ]
  },
  {
   "cell_type": "code",
   "execution_count": 54,
   "id": "bed75bb7",
   "metadata": {},
   "outputs": [
    {
     "data": {
      "text/plain": [
       "[6, 7]"
      ]
     },
     "execution_count": 54,
     "metadata": {},
     "output_type": "execute_result"
    }
   ],
   "source": [
    "# numbers greater than 5\n",
    "L = [3,4,5,6,7]\n",
    "\n",
    "list(filter(lambda x:x>5,L))"
   ]
  },
  {
   "cell_type": "code",
   "execution_count": 55,
   "id": "e7a2d21d",
   "metadata": {},
   "outputs": [
    {
     "data": {
      "text/plain": [
       "['apple']"
      ]
     },
     "execution_count": 55,
     "metadata": {},
     "output_type": "execute_result"
    }
   ],
   "source": [
    "# fetch fruits starting with 'a'\n",
    "fruits = ['apple','guava','cherry']\n",
    "\n",
    "list(filter(lambda x:x.startswith('a'),fruits))"
   ]
  },
  {
   "cell_type": "code",
   "execution_count": 56,
   "id": "86706cb9",
   "metadata": {},
   "outputs": [
    {
     "name": "stdout",
     "output_type": "stream",
     "text": [
      "[4, 16, 36]\n"
     ]
    }
   ],
   "source": [
    "numbers = [1, 2, 3, 4, 5, 6]\n",
    "\n",
    "# using map and filter together\n",
    "squared_evens = map(lambda x: x ** 2, filter(lambda x: x % 2 == 0, numbers))\n",
    "print(list(squared_evens))\n"
   ]
  },
  {
   "cell_type": "code",
   "execution_count": 57,
   "id": "f36829f2",
   "metadata": {},
   "outputs": [
    {
     "name": "stdout",
     "output_type": "stream",
     "text": [
      "[(4, 'four'), (1, 'one'), (3, 'three'), (2, 'two')]\n"
     ]
    }
   ],
   "source": [
    "pairs = [(1, 'one'), (2, 'two'), (3, 'three'), (4, 'four')]\n",
    "sorted_pairs = sorted(pairs, key=lambda x: x[1])\n",
    "print(sorted_pairs) \n"
   ]
  },
  {
   "cell_type": "code",
   "execution_count": 58,
   "id": "94e481e8",
   "metadata": {},
   "outputs": [
    {
     "name": "stdout",
     "output_type": "stream",
     "text": [
      "True\n"
     ]
    }
   ],
   "source": [
    "numbers = [0, 1, 2, 3, 4]\n",
    "result = any(map(lambda x: x > 3, numbers))\n",
    "print(result)  \n"
   ]
  },
  {
   "cell_type": "code",
   "execution_count": 59,
   "id": "68d4fcd6",
   "metadata": {},
   "outputs": [
    {
     "name": "stdout",
     "output_type": "stream",
     "text": [
      "True\n"
     ]
    }
   ],
   "source": [
    "numbers = [1, 2, 3, 4, 5]\n",
    "result = all(map(lambda x: x > 0, numbers))\n",
    "print(result)  "
   ]
  },
  {
   "cell_type": "code",
   "execution_count": 60,
   "id": "5c4bada1",
   "metadata": {},
   "outputs": [
    {
     "name": "stdout",
     "output_type": "stream",
     "text": [
      "[(1, 'one'), (2, 'two'), (3, 'three')]\n"
     ]
    }
   ],
   "source": [
    "list1 = [1, 2, 3]\n",
    "list2 = ['one', 'two', 'three']\n",
    "zipped = zip(list1, list2)\n",
    "print(list(zipped))"
   ]
  }
 ],
 "metadata": {
  "kernelspec": {
   "display_name": "Python 3 (ipykernel)",
   "language": "python",
   "name": "python3"
  },
  "language_info": {
   "codemirror_mode": {
    "name": "ipython",
    "version": 3
   },
   "file_extension": ".py",
   "mimetype": "text/x-python",
   "name": "python",
   "nbconvert_exporter": "python",
   "pygments_lexer": "ipython3",
   "version": "3.11.5"
  }
 },
 "nbformat": 4,
 "nbformat_minor": 5
}
