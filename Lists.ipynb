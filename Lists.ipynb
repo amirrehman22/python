{
 "cells": [
  {
   "cell_type": "markdown",
   "id": "35627fe8",
   "metadata": {},
   "source": [
    "# List\n",
    "list is a built-in data structure that is used to store an ordered collection of items. Lists are versatile and can hold items of different types, such as integers, strings, or other lists. They are mutable, meaning you can change their content after they are created."
   ]
  },
  {
   "cell_type": "markdown",
   "id": "e886445a",
   "metadata": {},
   "source": [
    "### Array Vs Lists\n",
    "\n",
    "- Fixed Vs Dynamic Size\n",
    "- Convenience -> Hetrogeneous\n",
    "- Slow Speed of Execution(list)\n",
    "- large Memory(list)"
   ]
  },
  {
   "cell_type": "markdown",
   "id": "b846d05d",
   "metadata": {},
   "source": [
    "### Characterstics of a List\n",
    "\n",
    "- Ordered\n",
    "- Changeble/Mutable\n",
    "- Hetrogeneous\n",
    "- Can have duplicates\n",
    "- are dynamic\n",
    "- can be nested\n",
    "- items can be accessed \n",
    "- can contain any kind of objects in python"
   ]
  },
  {
   "cell_type": "code",
   "execution_count": 1,
   "id": "a8479e69",
   "metadata": {},
   "outputs": [
    {
     "name": "stdout",
     "output_type": "stream",
     "text": [
      "[]\n",
      "[1, 2, 3, 4, 5]\n",
      "[1, 2, 3, [4, 5]]\n",
      "[[[1, 2], [3, 4]], [[5, 6], [7, 8]]]\n",
      "[1, True, 5.6, (5+6j), 'Hello']\n",
      "['h', 'e', 'l', 'l', 'o']\n"
     ]
    }
   ],
   "source": [
    "# Empty list\n",
    "print([])\n",
    "\n",
    "# 1D -> Homogenous list\n",
    "print([1,2,3,4,5])\n",
    "\n",
    "# 2D list\n",
    "print([1,2,3,[4,5]])\n",
    "\n",
    "# 3D list\n",
    "print([[[1,2],[3,4]],[[5,6],[7,8]]])\n",
    "\n",
    "# Hetrogenous list\n",
    "print([1,True,5.6,5+6j,'Hello'])\n",
    "\n",
    "# Using Type conversion\n",
    "print(list('hello'))"
   ]
  },
  {
   "cell_type": "markdown",
   "id": "b6dcaa90",
   "metadata": {},
   "source": [
    "## Indexing and slicing"
   ]
  },
  {
   "cell_type": "code",
   "execution_count": 66,
   "id": "9abd06d1",
   "metadata": {},
   "outputs": [
    {
     "name": "stdout",
     "output_type": "stream",
     "text": [
      "2\n",
      "[2, 3, 4, 5, 6, 7, 8, 9, 10]\n",
      "[1, 2, 3, 4]\n",
      "10\n",
      "[10]\n",
      "reverse order : [10, 9, 8, 7, 6, 5, 4, 3, 2, 1]\n",
      "[1, 2, 3, 4, 5, 6]\n",
      "[1, 3, 5, 7, 9]\n"
     ]
    }
   ],
   "source": [
    "# postive\n",
    "a=[1,2,3,4,5,6,7,8,9,10]\n",
    "print(a[1])\n",
    "print(a[1:])\n",
    "print(a[:4])\n",
    "\n",
    "# negative\n",
    "print(a[-1])\n",
    "print(a[-1:])\n",
    "print(\"reverse order :\",a[::-1]) #print in reverse order\n",
    "print(a[:-4])\n",
    "# alternative elements\n",
    "print(a[::2]) #print after 1 element"
   ]
  },
  {
   "cell_type": "code",
   "execution_count": 13,
   "id": "6c5a8f94",
   "metadata": {},
   "outputs": [
    {
     "name": "stdout",
     "output_type": "stream",
     "text": [
      "[9, 10]\n",
      "9\n",
      "[9, 10]\n"
     ]
    }
   ],
   "source": [
    "# 2D\n",
    "a=[1,2,3,4,5,6,7,8,[9,10]]\n",
    "print(a[8])\n",
    "\n",
    "print(a[8][0])\n",
    "\n",
    "print(a[-1])\n"
   ]
  },
  {
   "cell_type": "code",
   "execution_count": 26,
   "id": "55ac41f7",
   "metadata": {},
   "outputs": [
    {
     "name": "stdout",
     "output_type": "stream",
     "text": [
      "[[1, 2], [3, 4]]\n",
      "3\n",
      "5\n"
     ]
    }
   ],
   "source": [
    "# 3D\n",
    "a = [[[1,2],[3,4]],[[5,6],[7,8]]]\n",
    "print(a[0])\n",
    "# extract 3\n",
    "print(a[0][1][0])\n",
    "# extract 5\n",
    "print(a[1][0][0])"
   ]
  },
  {
   "cell_type": "markdown",
   "id": "83effb37",
   "metadata": {},
   "source": [
    "## Adding item in list"
   ]
  },
  {
   "cell_type": "code",
   "execution_count": 31,
   "id": "8164d88c",
   "metadata": {},
   "outputs": [
    {
     "name": "stdout",
     "output_type": "stream",
     "text": [
      "[1, 2, 3, 4, 5, 6, 7, 8]\n",
      "[1, 2, 3, 4, 5, 6, 7, 8, [9, 10]]\n"
     ]
    }
   ],
   "source": [
    "a=[1,2,3,4,5,6,7]\n",
    "\n",
    "# append(add one element in list at end)\n",
    "a.append(8)\n",
    "print(a)\n",
    "\n",
    "# add multiple element in list using append\n",
    "a.append([9,10]) # it make 2D list\n",
    "print(a)"
   ]
  },
  {
   "cell_type": "code",
   "execution_count": 33,
   "id": "2ea9da5d",
   "metadata": {},
   "outputs": [
    {
     "name": "stdout",
     "output_type": "stream",
     "text": [
      "[1, 2, 3, 4, 5, 6, 7, 9, 10]\n",
      "[1, 2, 3, 4, 5, 6, 7, 9, 10, 'h', 'e', 'l', 'l', 'o']\n"
     ]
    }
   ],
   "source": [
    "a=[1,2,3,4,5,6,7]\n",
    "\n",
    "# extent(add multiple element in list)\n",
    "a.extend([9,10])\n",
    "print(a)\n",
    "\n",
    "\n",
    "a.extend('hello')\n",
    "print(a)"
   ]
  },
  {
   "cell_type": "code",
   "execution_count": 37,
   "id": "12a5ff46",
   "metadata": {},
   "outputs": [
    {
     "name": "stdout",
     "output_type": "stream",
     "text": [
      "[1, 2, 3, 4, 5, 6, 7, 8]\n",
      "[1, 2, 3, 4, 5, 6, 7, 8, 8]\n"
     ]
    }
   ],
   "source": [
    "a=[1,2,3,4,5,6,7]\n",
    "\n",
    "# insert (add element at given postion)\n",
    "a.insert(7,8) #(index,element)\n",
    "print(a)"
   ]
  },
  {
   "cell_type": "markdown",
   "id": "65104c94",
   "metadata": {},
   "source": [
    "## Editing items in a list"
   ]
  },
  {
   "cell_type": "code",
   "execution_count": 40,
   "id": "b97db4a3",
   "metadata": {},
   "outputs": [
    {
     "name": "stdout",
     "output_type": "stream",
     "text": [
      "[100, 2, 3, 4, 5, 6, 7]\n",
      "[100, 200, 300, 400, 5, 6, 7]\n"
     ]
    }
   ],
   "source": [
    "a=[1,2,3,4,5,6,7]\n",
    "\n",
    "# editing with indexing\n",
    "a[0] = 100\n",
    "print(a)\n",
    "\n",
    "# editing with sclicing\n",
    "a[1:4] = [200,300,400]\n",
    "print(a)"
   ]
  },
  {
   "cell_type": "markdown",
   "id": "9aaf81a1",
   "metadata": {},
   "source": [
    " ## Deleting items from a List"
   ]
  },
  {
   "cell_type": "code",
   "execution_count": 44,
   "id": "6dccd0b3",
   "metadata": {},
   "outputs": [
    {
     "name": "stdout",
     "output_type": "stream",
     "text": [
      "[1, 3, 4, 5, 6, 7, 8, 9]\n",
      "[5, 6, 7, 8, 9]\n"
     ]
    }
   ],
   "source": [
    "# del (use index)    \n",
    "a=[1,2,3,4,5,6,7,8,9]\n",
    "\n",
    "# del with indexing\n",
    "del a[1]\n",
    "print(a)\n",
    "\n",
    "# del with sclicing\n",
    "del a[0:3]\n",
    "print(a)"
   ]
  },
  {
   "cell_type": "code",
   "execution_count": 46,
   "id": "a8473642",
   "metadata": {},
   "outputs": [
    {
     "name": "stdout",
     "output_type": "stream",
     "text": [
      "[1, 2, 4, 5, 6, 7, 8, 9]\n"
     ]
    }
   ],
   "source": [
    "# remove (find element and del)\n",
    "a=[1,2,3,4,5,6,7,8,9]\n",
    "\n",
    "# del 3 \n",
    "a.remove(3)\n",
    "print(a)"
   ]
  },
  {
   "cell_type": "code",
   "execution_count": 50,
   "id": "c307f2bc",
   "metadata": {},
   "outputs": [
    {
     "name": "stdout",
     "output_type": "stream",
     "text": [
      "[1, 2, 3, 4, 6, 7, 8, 9]\n",
      "[1, 2, 3, 4, 6, 7, 8]\n"
     ]
    }
   ],
   "source": [
    "# pop (del using index and del last element)\n",
    "a=[1,2,3,4,5,6,7,8,9]\n",
    "\n",
    "# del at index 4\n",
    "a.pop(4)\n",
    "print(a)\n",
    "\n",
    "# del last element\n",
    "a.pop()\n",
    "print(a) "
   ]
  },
  {
   "cell_type": "code",
   "execution_count": 52,
   "id": "99a765af",
   "metadata": {},
   "outputs": [
    {
     "name": "stdout",
     "output_type": "stream",
     "text": [
      "[]\n"
     ]
    }
   ],
   "source": [
    "# clear (del all element of list)\n",
    "a=[1,2,3,4,5,6,7,8,9]\n",
    "\n",
    "a.clear()\n",
    "print(a)"
   ]
  },
  {
   "cell_type": "markdown",
   "id": "359aba27",
   "metadata": {},
   "source": [
    "## Operations on Lists\n",
    "\n",
    "- Arithmetic\n",
    "- Membership\n",
    "- Loop"
   ]
  },
  {
   "cell_type": "code",
   "execution_count": 53,
   "id": "2a2c6b32",
   "metadata": {},
   "outputs": [
    {
     "name": "stdout",
     "output_type": "stream",
     "text": [
      "[1, 2, 3, 4, 5, 6, 7, 8]\n"
     ]
    }
   ],
   "source": [
    "# Arithmetic (+,*)\n",
    "\n",
    "a = [1,2,3,4]\n",
    "b = [5,6,7,8]\n",
    "\n",
    "print(a + b) # concatenation / merge"
   ]
  },
  {
   "cell_type": "code",
   "execution_count": 55,
   "id": "88aa3c36",
   "metadata": {},
   "outputs": [
    {
     "name": "stdout",
     "output_type": "stream",
     "text": [
      "[1, 2, 3, 4, 1, 2, 3, 4]\n"
     ]
    }
   ],
   "source": [
    "a = [1,2,3,4]\n",
    "\n",
    "print(a * 2) # merge two time a list"
   ]
  },
  {
   "cell_type": "code",
   "execution_count": 57,
   "id": "0b4aea46",
   "metadata": {},
   "outputs": [
    {
     "name": "stdout",
     "output_type": "stream",
     "text": [
      "True\n",
      "False\n"
     ]
    }
   ],
   "source": [
    "# Membership \n",
    "a = [1,2,3,4,7]\n",
    "\n",
    "print(1 in a)\n",
    "print(1 not in a)"
   ]
  },
  {
   "cell_type": "code",
   "execution_count": 59,
   "id": "ac51dd18",
   "metadata": {},
   "outputs": [
    {
     "name": "stdout",
     "output_type": "stream",
     "text": [
      "False\n",
      "True\n"
     ]
    }
   ],
   "source": [
    "a = [1,2,7,[4,5],8,9] \n",
    "\n",
    "print( 5 in a)\n",
    "print( [4,5] in a)"
   ]
  },
  {
   "cell_type": "code",
   "execution_count": 60,
   "id": "f6db851a",
   "metadata": {},
   "outputs": [
    {
     "name": "stdout",
     "output_type": "stream",
     "text": [
      "1\n",
      "2\n",
      "3\n",
      "4\n",
      "5\n",
      "6\n",
      "7\n",
      "8\n",
      "9\n"
     ]
    }
   ],
   "source": [
    "# loop \n",
    "a=[1,2,3,4,5,6,7,8,9]\n",
    "\n",
    "for i in a:\n",
    "    print(i)"
   ]
  },
  {
   "cell_type": "code",
   "execution_count": 61,
   "id": "8b46b9be",
   "metadata": {},
   "outputs": [
    {
     "name": "stdout",
     "output_type": "stream",
     "text": [
      "1\n",
      "2\n",
      "3\n",
      "4\n",
      "5\n",
      "6\n",
      "7\n",
      "8\n",
      "[9, 10]\n"
     ]
    }
   ],
   "source": [
    "# 2D\n",
    "a=[1,2,3,4,5,6,7,8,[9,10]]\n",
    "for i in a:\n",
    "    print(i)"
   ]
  },
  {
   "cell_type": "code",
   "execution_count": 62,
   "id": "af005451",
   "metadata": {},
   "outputs": [
    {
     "name": "stdout",
     "output_type": "stream",
     "text": [
      "[[1, 2], [3, 4]]\n",
      "[[5, 6], [7, 8]]\n"
     ]
    }
   ],
   "source": [
    "# 3D\n",
    "a = [[[1,2],[3,4]],[[5,6],[7,8]]]\n",
    "for i in a:\n",
    "    print(i)"
   ]
  },
  {
   "cell_type": "code",
   "execution_count": 63,
   "id": "09297e24",
   "metadata": {},
   "outputs": [
    {
     "name": "stdout",
     "output_type": "stream",
     "text": [
      "your name is amir and your height is 5.8 and your weight 70\n",
      "your name is rehman and your height is 5.2 and your weight 59\n",
      "your name is rafaty and your height is 5.5 and your weight 45\n",
      "your name is fazeel and your height is 4 and your weight 66\n",
      "your name is salman and your height is 4.5 and your weight 77\n",
      "your name is anas and your height is 6 and your weight 45\n",
      "your name is ans and your height is 5.6 and your weight 90\n",
      "your name is bilal and your height is 6 and your weight 45\n",
      "your name is talha and your height is 4.8 and your weight 65\n"
     ]
    }
   ],
   "source": [
    "# print list by loop\n",
    "a = ['amir','rehman','rafaty','fazeel','salman','anas','ans','bilal','talha']\n",
    "b=[5.8,5.2,5.5,4,4.5,6,5.6,6,4.8]\n",
    "c=[70,59,45,66,77,45,90,45,65]\n",
    "\n",
    "for i in range(len(a)):\n",
    "    print(f\"your name is {a[i]} and your height is {b[i]} and your weight {c[i]}\")"
   ]
  },
  {
   "cell_type": "markdown",
   "id": "1a5005ee",
   "metadata": {},
   "source": [
    "## List Functions"
   ]
  },
  {
   "cell_type": "code",
   "execution_count": 68,
   "id": "6280bde9",
   "metadata": {},
   "outputs": [
    {
     "name": "stdout",
     "output_type": "stream",
     "text": [
      "10\n"
     ]
    }
   ],
   "source": [
    "a=[1,0,3,21,5,6,22,8,19,10]\n",
    "\n",
    "# len\n",
    "print(len(a))"
   ]
  },
  {
   "cell_type": "code",
   "execution_count": 70,
   "id": "5a77e787",
   "metadata": {},
   "outputs": [
    {
     "name": "stdout",
     "output_type": "stream",
     "text": [
      "[0, 1, 3, 5, 6, 8, 10, 19, 21, 22]\n",
      "[22, 21, 19, 10, 8, 6, 5, 3, 1, 0]\n"
     ]
    }
   ],
   "source": [
    "# sorted\n",
    "# ascending order\n",
    "print(sorted(a))\n",
    "\n",
    "# descending order\n",
    "\n",
    "print(sorted(a,reverse=True))\n"
   ]
  },
  {
   "cell_type": "code",
   "execution_count": 72,
   "id": "b0ef89f5",
   "metadata": {},
   "outputs": [
    {
     "data": {
      "text/plain": [
       "2"
      ]
     },
     "execution_count": 72,
     "metadata": {},
     "output_type": "execute_result"
    }
   ],
   "source": [
    "# count\n",
    "a=[1,0,3,21,5,6,3,22,8,19,1]\n",
    "a.count(1)"
   ]
  },
  {
   "cell_type": "code",
   "execution_count": 74,
   "id": "8ea1c636",
   "metadata": {},
   "outputs": [
    {
     "data": {
      "text/plain": [
       "0"
      ]
     },
     "execution_count": 74,
     "metadata": {},
     "output_type": "execute_result"
    }
   ],
   "source": [
    "# index\n",
    "a=[1,0,3,21,5,6,3,22,8,19,1]\n",
    "a.index(1)"
   ]
  },
  {
   "cell_type": "code",
   "execution_count": 76,
   "id": "66f8cf4b",
   "metadata": {},
   "outputs": [
    {
     "data": {
      "text/plain": [
       "[10, 9, 8, 7, 6, 5, 4, 3, 2, 1]"
      ]
     },
     "execution_count": 76,
     "metadata": {},
     "output_type": "execute_result"
    }
   ],
   "source": [
    "# reverse\n",
    "a=[1,2,3,4,5,6,7,8,9,10]\n",
    "a.reverse() # it change parments\n",
    "a"
   ]
  },
  {
   "cell_type": "code",
   "execution_count": 78,
   "id": "0409ed51",
   "metadata": {},
   "outputs": [
    {
     "data": {
      "text/plain": [
       "[0, 1, 3, 5, 6, 8, 10, 19, 21, 22]"
      ]
     },
     "execution_count": 78,
     "metadata": {},
     "output_type": "execute_result"
    }
   ],
   "source": [
    "# sort\n",
    "a=[1,0,3,21,5,6,22,8,19,10]\n",
    "a.sort() # it change parments\n",
    "a"
   ]
  },
  {
   "cell_type": "code",
   "execution_count": 79,
   "id": "bd7b9c36",
   "metadata": {},
   "outputs": [
    {
     "data": {
      "text/plain": [
       "[0, 1, 3, 5, 6, 8, 10, 19, 21, 22]"
      ]
     },
     "execution_count": 79,
     "metadata": {},
     "output_type": "execute_result"
    }
   ],
   "source": [
    "# copy \n",
    "b = a.copy()\n",
    "b"
   ]
  },
  {
   "cell_type": "code",
   "execution_count": 80,
   "id": "145f8efa",
   "metadata": {},
   "outputs": [
    {
     "name": "stdout",
     "output_type": "stream",
     "text": [
      "[(1, 'a'), (2, 'b'), (3, 'c')]\n"
     ]
    }
   ],
   "source": [
    "# zip\n",
    "list1 = [1, 2, 3]\n",
    "list2 = ['a', 'b', 'c']\n",
    "zipped = list(zip(list1, list2))\n",
    "print(zipped)   "
   ]
  },
  {
   "cell_type": "code",
   "execution_count": null,
   "id": "2973283d",
   "metadata": {},
   "outputs": [],
   "source": [
    "## statistics operation on list"
   ]
  },
  {
   "cell_type": "code",
   "execution_count": 81,
   "id": "b489feb4",
   "metadata": {},
   "outputs": [
    {
     "name": "stdout",
     "output_type": "stream",
     "text": [
      "List: [1, 2, 3, 4, 5, 6, 7, 8, 9, 10]\n",
      "Minimum: 1\n",
      "Maximum: 10\n",
      "Sum: 55\n",
      "Variance: 9.166666666666666\n",
      "Standard Deviation: 3.0276503540974917\n",
      "Mean: 5.5\n",
      "Median: 5.5\n",
      "Mode: 1\n"
     ]
    }
   ],
   "source": [
    "import statistics\n",
    "\n",
    "numbers = [1, 2, 3, 4, 5, 6, 7, 8, 9, 10]\n",
    "\n",
    "# calculate minimum\n",
    "min_value = min(numbers)\n",
    "\n",
    "# calculate maximum\n",
    "max_value = max(numbers)\n",
    "\n",
    "# calculate sum\n",
    "sum_value = sum(numbers)\n",
    "\n",
    "# calculate variance\n",
    "variance_value = statistics.variance(numbers)\n",
    "\n",
    "# calculate standard deviation\n",
    "std_dev_value = statistics.stdev(numbers)\n",
    "\n",
    "# calculate mean (average)\n",
    "mean_value = statistics.mean(numbers)\n",
    "\n",
    "# calculate median\n",
    "median_value = statistics.median(numbers)\n",
    "\n",
    "# calculate mode (most common value)\n",
    "mode_value = statistics.mode(numbers) \n",
    "\n",
    "# print the results\n",
    "print(f\"List: {numbers}\")\n",
    "print(f\"Minimum: {min_value}\")\n",
    "print(f\"Maximum: {max_value}\")\n",
    "print(f\"Sum: {sum_value}\")\n",
    "print(f\"Variance: {variance_value}\")\n",
    "print(f\"Standard Deviation: {std_dev_value}\")\n",
    "print(f\"Mean: {mean_value}\")\n",
    "print(f\"Median: {median_value}\")\n",
    "print(f\"Mode: {mode_value}\")\n"
   ]
  },
  {
   "cell_type": "markdown",
   "id": "a33fbc08",
   "metadata": {},
   "source": [
    "## List Comprehension\n",
    "\n",
    "List Comprehension provides a concise way of creating lists."
   ]
  },
  {
   "cell_type": "code",
   "execution_count": 3,
   "id": "59882488",
   "metadata": {},
   "outputs": [
    {
     "name": "stdout",
     "output_type": "stream",
     "text": [
      "[1, 2, 3, 4, 5, 6, 7, 8, 9, 10, 11, 12, 13, 14, 15, 16, 17, 18, 19, 20, 21, 22, 23, 24, 25, 26, 27, 28, 29, 30, 31, 32, 33, 34, 35, 36, 37, 38, 39, 40, 41, 42, 43, 44, 45, 46, 47, 48, 49, 50, 51, 52, 53, 54, 55, 56, 57, 58, 59, 60, 61, 62, 63, 64, 65, 66, 67, 68, 69, 70, 71, 72, 73, 74, 75, 76, 77, 78, 79, 80, 81, 82, 83, 84, 85, 86, 87, 88, 89, 90, 91, 92, 93, 94, 95, 96, 97, 98, 99]\n"
     ]
    }
   ],
   "source": [
    "a = [i for i in range (1,100)]\n",
    "print(a)"
   ]
  },
  {
   "cell_type": "code",
   "execution_count": 16,
   "id": "152137cd",
   "metadata": {},
   "outputs": [
    {
     "data": {
      "text/plain": [
       "[1, 4, 9, 16, 25, 36, 49, 64, 81]"
      ]
     },
     "execution_count": 16,
     "metadata": {},
     "output_type": "execute_result"
    }
   ],
   "source": [
    "# square from 1 to 100\n",
    "sq = [i**2 for i in range(1,10)]\n",
    "sq"
   ]
  },
  {
   "cell_type": "code",
   "execution_count": 17,
   "id": "08048ce7",
   "metadata": {},
   "outputs": [
    {
     "data": {
      "text/plain": [
       "[5, 10, 15, 20, 25, 30, 35, 40, 45, 50, 55, 60, 65, 70, 75, 80, 85, 90, 95]"
      ]
     },
     "execution_count": 17,
     "metadata": {},
     "output_type": "execute_result"
    }
   ],
   "source": [
    "# Print all numbers divisible by 5 in the range of 1 to 50\n",
    "a = [i for i in range(1,100) if i % 5 == 0]\n",
    "a"
   ]
  },
  {
   "cell_type": "code",
   "execution_count": 18,
   "id": "9fea268f",
   "metadata": {},
   "outputs": [
    {
     "data": {
      "text/plain": [
       "['java', 'javascript']"
      ]
     },
     "execution_count": 18,
     "metadata": {},
     "output_type": "execute_result"
    }
   ],
   "source": [
    "# find languages which start with letter j\n",
    "\n",
    "languages = ['java','python','php','c','javascript']\n",
    "\n",
    "[i for i in languages if i.startswith(\"j\")]"
   ]
  },
  {
   "cell_type": "code",
   "execution_count": null,
   "id": "49be0b24",
   "metadata": {},
   "outputs": [],
   "source": [
    "# Nested if with List Comprehension\n",
    "basket = ['apple','guava','cherry','banana']\n",
    "my_fruits = ['apple','kiwi','grapes','banana']\n",
    "\n",
    "[i for i in my_fruits if i in basket if i.s]"
   ]
  },
  {
   "cell_type": "code",
   "execution_count": 1,
   "id": "2aad22ff",
   "metadata": {},
   "outputs": [
    {
     "data": {
      "text/plain": [
       "[5, 6, 7, 8, 10, 12, 14, 16, 15, 18, 21, 24, 20, 24, 28, 32]"
      ]
     },
     "execution_count": 1,
     "metadata": {},
     "output_type": "execute_result"
    }
   ],
   "source": [
    "# cartesian products -> List comprehension on 2 lists together\n",
    "L1 = [1,2,3,4]\n",
    "L2 = [5,6,7,8]\n",
    "\n",
    "[i*j for i in L1 for j in L2]"
   ]
  },
  {
   "cell_type": "code",
   "execution_count": null,
   "id": "66f6ad9f",
   "metadata": {},
   "outputs": [],
   "source": []
  }
 ],
 "metadata": {
  "kernelspec": {
   "display_name": "Python 3 (ipykernel)",
   "language": "python",
   "name": "python3"
  },
  "language_info": {
   "codemirror_mode": {
    "name": "ipython",
    "version": 3
   },
   "file_extension": ".py",
   "mimetype": "text/x-python",
   "name": "python",
   "nbconvert_exporter": "python",
   "pygments_lexer": "ipython3",
   "version": "3.11.5"
  }
 },
 "nbformat": 4,
 "nbformat_minor": 5
}
