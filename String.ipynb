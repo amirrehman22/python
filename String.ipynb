{
 "cells": [
  {
   "cell_type": "markdown",
   "id": "08fedc1e",
   "metadata": {},
   "source": [
    "## Strings\n",
    "Strings are sequence of Characters\n",
    "tring is a sequence of characters enclosed within single quotes ('...'), double quotes (\"...\"), triple single quotes ('''...'''), or triple double quotes (\"\"\"...\"\"\"). Strings are used to represent textual data and can include letters, numbers, symbols, and whitespace characters\n",
    "\n",
    "\n",
    "In Python specifically, strings are a sequence of Unicode Characters"
   ]
  },
  {
   "cell_type": "markdown",
   "id": "799814b8",
   "metadata": {},
   "source": [
    "### Creating Strings"
   ]
  },
  {
   "cell_type": "code",
   "execution_count": 5,
   "id": "cb965bfb",
   "metadata": {},
   "outputs": [
    {
     "name": "stdout",
     "output_type": "stream",
     "text": [
      "Hello, World!\n",
      "Hello, World!\n",
      "This is a string\n",
      "that spans multiple lines.\n",
      "This is another string\n",
      "that spans multiple lines.\n",
      "hello world\n"
     ]
    }
   ],
   "source": [
    "# single-quoted string\n",
    "single_quoted = 'Hello, World!'\n",
    "print(single_quoted)\n",
    "\n",
    "# double-quoted string\n",
    "double_quoted = \"Hello, World!\"\n",
    "print(double_quoted)\n",
    "\n",
    "# triple single-quoted string (can span multiple lines)\n",
    "triple_single_quoted = '''This is a string\n",
    "that spans multiple lines.'''\n",
    "print(triple_single_quoted)\n",
    "\n",
    "# triple double-quoted string (can also span multiple lines)\n",
    "triple_double_quoted = \"\"\"This is another string\n",
    "that spans multiple lines.\"\"\"\n",
    "print(triple_double_quoted)\n",
    "\n",
    "# str\n",
    "\n",
    "s = str(\"hello world\")\n",
    "print(s)"
   ]
  },
  {
   "cell_type": "code",
   "execution_count": 6,
   "id": "7d7e5220",
   "metadata": {},
   "outputs": [
    {
     "name": "stdout",
     "output_type": "stream",
     "text": [
      "Regular string:\n",
      "This is a newline character: \n",
      "This is a tab character: \tEnd of string.\n",
      "Raw string:\n",
      "This is a newline character: \\nThis is a tab character: \\tEnd of string.\n"
     ]
    }
   ],
   "source": [
    "# Regular string with escape sequences\n",
    "regular_string = \"This is a newline character: \\nThis is a tab character: \\tEnd of string.\"\n",
    "\n",
    "# Raw string treats backslashes as literal characters\n",
    "raw_string = r\"This is a newline character: \\nThis is a tab character: \\tEnd of string.\"\n",
    "\n",
    "print(\"Regular string:\")\n",
    "print(regular_string)\n",
    "print(\"Raw string:\")\n",
    "print(raw_string)\n"
   ]
  },
  {
   "cell_type": "code",
   "execution_count": null,
   "id": "98583bb3",
   "metadata": {},
   "outputs": [],
   "source": []
  },
  {
   "cell_type": "code",
   "execution_count": null,
   "id": "a901eb4a",
   "metadata": {},
   "outputs": [],
   "source": []
  },
  {
   "cell_type": "markdown",
   "id": "9bef7115",
   "metadata": {},
   "source": [
    "### Accessing Strings"
   ]
  },
  {
   "cell_type": "code",
   "execution_count": 10,
   "id": "0ec6f46e",
   "metadata": {},
   "outputs": [
    {
     "name": "stdout",
     "output_type": "stream",
     "text": [
      "h\n",
      " \n",
      "l\n",
      "d\n",
      "w\n",
      "r\n"
     ]
    }
   ],
   "source": [
    "# indexing\n",
    "s = 'hello world'\n",
    "\n",
    "# postive indexing\n",
    "print(s[0])\n",
    "print(s[5]) # blank space\n",
    "print(s[3])\n",
    "\n",
    "# negative indexing\n",
    "print(s[-1])\n",
    "print(s[-5]) \n",
    "print(s[-3])"
   ]
  },
  {
   "cell_type": "code",
   "execution_count": 19,
   "id": "8ee47d2b",
   "metadata": {},
   "outputs": [
    {
     "name": "stdout",
     "output_type": "stream",
     "text": [
      "hello world\n",
      "hell\n",
      "l\n",
      "hlowrd\n",
      "dlrow olleh\n"
     ]
    }
   ],
   "source": [
    "# Slicing\n",
    "\n",
    "# postive Slicing\n",
    "print(s[:])\n",
    "print(s[0:4])\n",
    "print(s[2:3])\n",
    "print(s[::2]) # skip one letter (step size)\n",
    "print(s[::-1]) # reverse string\n"
   ]
  },
  {
   "cell_type": "code",
   "execution_count": 25,
   "id": "027b1667",
   "metadata": {},
   "outputs": [
    {
     "name": "stdout",
     "output_type": "stream",
     "text": [
      "world\n",
      "r\n",
      "dlrow\n"
     ]
    }
   ],
   "source": [
    "# Slicing\n",
    "\n",
    "# negative Slicing\n",
    "print(s[-5:])\n",
    "print(s[-3:-2])\n",
    "print(s[-1:-6:-1])\n"
   ]
  },
  {
   "cell_type": "markdown",
   "id": "9d39b5a2",
   "metadata": {},
   "source": [
    "### Adding Chars to Strings"
   ]
  },
  {
   "cell_type": "code",
   "execution_count": 28,
   "id": "129255ee",
   "metadata": {},
   "outputs": [
    {
     "ename": "TypeError",
     "evalue": "'str' object does not support item assignment",
     "output_type": "error",
     "traceback": [
      "\u001b[1;31m---------------------------------------------------------------------------\u001b[0m",
      "\u001b[1;31mTypeError\u001b[0m                                 Traceback (most recent call last)",
      "Cell \u001b[1;32mIn[28], line 1\u001b[0m\n\u001b[1;32m----> 1\u001b[0m s[\u001b[38;5;241m0\u001b[39m] \u001b[38;5;241m=\u001b[39m\u001b[38;5;124m'\u001b[39m\u001b[38;5;124mH\u001b[39m\u001b[38;5;124m'\u001b[39m\n",
      "\u001b[1;31mTypeError\u001b[0m: 'str' object does not support item assignment"
     ]
    }
   ],
   "source": [
    "s[0] ='H'\n",
    "\n",
    "# python string immutable"
   ]
  },
  {
   "cell_type": "markdown",
   "id": "09197d99",
   "metadata": {},
   "source": [
    "### Deleting Strings\n"
   ]
  },
  {
   "cell_type": "code",
   "execution_count": 29,
   "id": "b27ab924",
   "metadata": {},
   "outputs": [],
   "source": [
    "# delete string\n",
    "del s"
   ]
  },
  {
   "cell_type": "code",
   "execution_count": null,
   "id": "fa88459b",
   "metadata": {},
   "outputs": [],
   "source": []
  },
  {
   "cell_type": "markdown",
   "id": "35555a6b",
   "metadata": {},
   "source": [
    "## Operations on Strings\n",
    "\n",
    "- Arithmetic Operations\n",
    "- Relational Operations\n",
    "- Logical Operations\n",
    "- Loops on Strings\n",
    "- Membership Operations\n"
   ]
  },
  {
   "cell_type": "code",
   "execution_count": 30,
   "id": "da777dc0",
   "metadata": {},
   "outputs": [
    {
     "name": "stdout",
     "output_type": "stream",
     "text": [
      "Hello World\n"
     ]
    }
   ],
   "source": [
    "# Arithmetic Operations\n",
    "str1 = \"Hello\"\n",
    "str2 = \"World\"\n",
    "result = str1 + \" \" + str2\n",
    "print(result)"
   ]
  },
  {
   "cell_type": "code",
   "execution_count": 33,
   "id": "4ed9397d",
   "metadata": {},
   "outputs": [
    {
     "name": "stdout",
     "output_type": "stream",
     "text": [
      "HaHaHa\n",
      "----------------------------------------\n"
     ]
    }
   ],
   "source": [
    "str1 = \"Ha\"\n",
    "result = str1 * 3\n",
    "print(result)\n",
    "print('-'* 40)"
   ]
  },
  {
   "cell_type": "code",
   "execution_count": 32,
   "id": "b08a87e8",
   "metadata": {},
   "outputs": [
    {
     "name": "stdout",
     "output_type": "stream",
     "text": [
      "False\n",
      "True\n"
     ]
    }
   ],
   "source": [
    "str1 = \"apple\"\n",
    "str2 = \"banana\"\n",
    "print(str1 == str2)  \n",
    "print(str1 != str2)  "
   ]
  },
  {
   "cell_type": "code",
   "execution_count": 34,
   "id": "4cc8851d",
   "metadata": {},
   "outputs": [
    {
     "name": "stdout",
     "output_type": "stream",
     "text": [
      "False\n",
      "True\n"
     ]
    }
   ],
   "source": [
    "# Relational Operations \n",
    "str1 = \"apple\"\n",
    "str2 = \"banana\"\n",
    "print(str1 == str2)\n",
    "print(str1 != str2)  \n"
   ]
  },
  {
   "cell_type": "code",
   "execution_count": 35,
   "id": "4eab6b6c",
   "metadata": {},
   "outputs": [
    {
     "name": "stdout",
     "output_type": "stream",
     "text": [
      "True\n",
      "False\n"
     ]
    }
   ],
   "source": [
    "print(str1 < str2)  \n",
    "print(str1 > str2)  \n"
   ]
  },
  {
   "cell_type": "code",
   "execution_count": 36,
   "id": "f06e54b4",
   "metadata": {},
   "outputs": [
    {
     "name": "stdout",
     "output_type": "stream",
     "text": [
      "False\n"
     ]
    }
   ],
   "source": [
    "# Logical Operations\n",
    "\n",
    "str1 = \"Hello\"\n",
    "str2 = \"\"\n",
    "print(bool(str1) and bool(str2))"
   ]
  },
  {
   "cell_type": "code",
   "execution_count": 37,
   "id": "4bd1e883",
   "metadata": {},
   "outputs": [
    {
     "name": "stdout",
     "output_type": "stream",
     "text": [
      "True\n"
     ]
    }
   ],
   "source": [
    "print(bool(str1) or bool(str2))  "
   ]
  },
  {
   "cell_type": "code",
   "execution_count": 38,
   "id": "5771ac45",
   "metadata": {},
   "outputs": [
    {
     "name": "stdout",
     "output_type": "stream",
     "text": [
      "False\n",
      "True\n"
     ]
    }
   ],
   "source": [
    "print(not bool(str1)) \n",
    "print(not bool(str2))  "
   ]
  },
  {
   "cell_type": "code",
   "execution_count": null,
   "id": "d912bd33",
   "metadata": {},
   "outputs": [],
   "source": [
    "# Loops on Strings\n",
    "str1 = \"Hello\"\n",
    "for char in str1:\n",
    "    print(char)\n"
   ]
  },
  {
   "cell_type": "code",
   "execution_count": 39,
   "id": "ccad7092",
   "metadata": {},
   "outputs": [
    {
     "name": "stdout",
     "output_type": "stream",
     "text": [
      "H\n",
      "e\n",
      "l\n",
      "l\n",
      "o\n"
     ]
    }
   ],
   "source": [
    "str1 = \"Hello\"\n",
    "i = 0\n",
    "while i < len(str1):\n",
    "    print(str1[i])\n",
    "    i += 1\n"
   ]
  },
  {
   "cell_type": "code",
   "execution_count": 40,
   "id": "f257bce9",
   "metadata": {},
   "outputs": [
    {
     "name": "stdout",
     "output_type": "stream",
     "text": [
      "True\n",
      "False\n"
     ]
    }
   ],
   "source": [
    "# Membership Operations\n",
    "str1 = \"Hello, World!\"\n",
    "print(\"World\" in str1)  \n",
    "print(\"Python\" in str1)  "
   ]
  },
  {
   "cell_type": "code",
   "execution_count": 41,
   "id": "53163686",
   "metadata": {},
   "outputs": [
    {
     "name": "stdout",
     "output_type": "stream",
     "text": [
      "True\n",
      "False\n"
     ]
    }
   ],
   "source": [
    "print(\"Python\" not in str1) \n",
    "print(\"World\" not in str1)  "
   ]
  },
  {
   "cell_type": "code",
   "execution_count": null,
   "id": "e6c493bc",
   "metadata": {},
   "outputs": [],
   "source": []
  },
  {
   "cell_type": "markdown",
   "id": "8b7bf445",
   "metadata": {},
   "source": [
    "- String Functions"
   ]
  },
  {
   "cell_type": "code",
   "execution_count": null,
   "id": "0ac56fac",
   "metadata": {},
   "outputs": [],
   "source": []
  }
 ],
 "metadata": {
  "kernelspec": {
   "display_name": "Python 3 (ipykernel)",
   "language": "python",
   "name": "python3"
  },
  "language_info": {
   "codemirror_mode": {
    "name": "ipython",
    "version": 3
   },
   "file_extension": ".py",
   "mimetype": "text/x-python",
   "name": "python",
   "nbconvert_exporter": "python",
   "pygments_lexer": "ipython3",
   "version": "3.11.5"
  }
 },
 "nbformat": 4,
 "nbformat_minor": 5
}
