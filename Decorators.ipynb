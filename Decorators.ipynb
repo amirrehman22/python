{
 "cells": [
  {
   "cell_type": "markdown",
   "id": "ac28cf6c",
   "metadata": {},
   "source": [
    "## Decorators\n",
    "A decorator in python is a function that receives another function as input and adds some functionality(decoration) to and it and returns it.\n",
    "\n",
    "This can happen only because python functions are 1st class citizens.\n",
    "\n",
    "There are 2 types of decorators available in python\n",
    "- `Built in decorators` like `@staticmethod`, `@classmethod`, `@abstractmethod` and `@property` etc\n",
    "- `User defined decorators` that we programmers can create according to our needs"
   ]
  },
  {
   "cell_type": "code",
   "execution_count": 3,
   "id": "07df10be",
   "metadata": {},
   "outputs": [
    {
     "name": "stdout",
     "output_type": "stream",
     "text": [
      "hello\n"
     ]
    }
   ],
   "source": [
    "# python functions are 1st class citizens.\n",
    "def fun():\n",
    "    print(\"hello\")\n",
    "    \n",
    "a = fun # now a become function\n",
    "\n",
    "a()"
   ]
  },
  {
   "cell_type": "code",
   "execution_count": 4,
   "id": "86a99687",
   "metadata": {},
   "outputs": [
    {
     "ename": "NameError",
     "evalue": "name 'fun' is not defined",
     "output_type": "error",
     "traceback": [
      "\u001b[1;31m---------------------------------------------------------------------------\u001b[0m",
      "\u001b[1;31mNameError\u001b[0m                                 Traceback (most recent call last)",
      "Cell \u001b[1;32mIn[4], line 9\u001b[0m\n\u001b[0;32m      5\u001b[0m a \u001b[38;5;241m=\u001b[39m fun \u001b[38;5;66;03m# now a become function\u001b[39;00m\n\u001b[0;32m      7\u001b[0m \u001b[38;5;28;01mdel\u001b[39;00m fun\n\u001b[1;32m----> 9\u001b[0m fun\n",
      "\u001b[1;31mNameError\u001b[0m: name 'fun' is not defined"
     ]
    }
   ],
   "source": [
    "# python functions are 1st class citizens.\n",
    "def fun():\n",
    "    print(\"hello\")\n",
    "    \n",
    "a = fun # now a become function\n",
    "\n",
    "del fun # now function delete\n",
    "\n",
    "fun"
   ]
  },
  {
   "cell_type": "code",
   "execution_count": 5,
   "id": "7f747513",
   "metadata": {},
   "outputs": [
    {
     "data": {
      "text/plain": [
       "4"
      ]
     },
     "execution_count": 5,
     "metadata": {},
     "output_type": "execute_result"
    }
   ],
   "source": [
    "def modify(func,num):\n",
    "    return func(num)\n",
    "\n",
    "def square(num):\n",
    "    return num**2\n",
    "\n",
    "modify(square,2)"
   ]
  },
  {
   "cell_type": "code",
   "execution_count": 16,
   "id": "6f6ce4ea",
   "metadata": {},
   "outputs": [
    {
     "name": "stdout",
     "output_type": "stream",
     "text": [
      "----------------------------\n",
      "hello\n",
      "----------------------------\n"
     ]
    }
   ],
   "source": [
    "# example\n",
    "def my_decorter(func):\n",
    "    def wrapper():\n",
    "        print(\"----------------------------\")\n",
    "        func()\n",
    "        print(\"----------------------------\")\n",
    "    return wrapper\n",
    "\n",
    "def hello():\n",
    "    print(\"hello\")\n",
    "\n",
    "a = my_decorter(hello)\n",
    "a()"
   ]
  },
  {
   "cell_type": "code",
   "execution_count": null,
   "id": "b691a010",
   "metadata": {},
   "outputs": [],
   "source": [
    "t7"
   ]
  }
 ],
 "metadata": {
  "kernelspec": {
   "display_name": "Python 3 (ipykernel)",
   "language": "python",
   "name": "python3"
  },
  "language_info": {
   "codemirror_mode": {
    "name": "ipython",
    "version": 3
   },
   "file_extension": ".py",
   "mimetype": "text/x-python",
   "name": "python",
   "nbconvert_exporter": "python",
   "pygments_lexer": "ipython3",
   "version": "3.11.5"
  }
 },
 "nbformat": 4,
 "nbformat_minor": 5
}
