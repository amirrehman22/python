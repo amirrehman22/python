{
 "cells": [
  {
   "cell_type": "markdown",
   "id": "6d0707f3",
   "metadata": {},
   "source": [
    "### Namespaces\n",
    "\n",
    "A namespace is a space that holds names(identifiers).Programmatically speaking, namespaces are dictionary of identifiers(keys) and their objects(values)\n",
    "### Types of Namespaces \n",
    "\n",
    "In Python, namespaces are implemented as dictionaries. There are several types of namespaces:\n",
    "\n",
    "**1. Built-in Namespace:** \n",
    "- Contains built-in functions and exceptions, and is always available.\n",
    "\n",
    "**2. Global Namespace:** \n",
    "- Contains names defined at the top level of a module or script.\n",
    "\n",
    "**3. Local Namespace:** \n",
    "- Contains names defined within a function, including its parameters.\n",
    "\n",
    "**4. Enclosing Namespace:** \n",
    "- The enclosing namespace refers to the scope of nested functions. \n",
    "### Scope and LEGB Rule\n",
    "\n",
    "A scope is a textual region of a Python program where a namespace is directly accessible.\n",
    "\n",
    "The interpreter searches for a name from the inside out, looking in the local, enclosing, global, and finally the built-in scope. If the interpreter doesn’t find the name in any of these locations, then Python raises a NameError exception."
   ]
  },
  {
   "cell_type": "markdown",
   "id": "4be881b0",
   "metadata": {},
   "source": [
    "### local and global variables"
   ]
  },
  {
   "cell_type": "code",
   "execution_count": 5,
   "id": "fe25c971",
   "metadata": {},
   "outputs": [
    {
     "name": "stdout",
     "output_type": "stream",
     "text": [
      "local var : 1\n",
      "global var 3\n"
     ]
    }
   ],
   "source": [
    "# Local and global variable \n",
    "\n",
    "x = 3 # global var\n",
    "\n",
    "def fun():\n",
    "    \n",
    "    y = 1 # local var\n",
    "    print(\"local var :\",y)\n",
    "    \n",
    "fun()\n",
    "\n",
    "print(\"global var\",x)"
   ]
  },
  {
   "cell_type": "code",
   "execution_count": 6,
   "id": "70c43e99",
   "metadata": {},
   "outputs": [
    {
     "name": "stdout",
     "output_type": "stream",
     "text": [
      "local var : 1\n",
      "global var 3\n"
     ]
    }
   ],
   "source": [
    "# Local and global variable  have same name \n",
    "\n",
    "x = 3 # global var\n",
    "\n",
    "def fun():\n",
    "    \n",
    "    x = 1 # local var\n",
    "    print(\"local var :\",x)\n",
    "    \n",
    "fun()\n",
    "\n",
    "print(\"global var\",x)\n",
    "\n",
    "# both variable have separate Namespace and different scope"
   ]
  },
  {
   "cell_type": "code",
   "execution_count": 7,
   "id": "c00a073c",
   "metadata": {},
   "outputs": [
    {
     "name": "stdout",
     "output_type": "stream",
     "text": [
      "local var : 3\n",
      "global var 3\n"
     ]
    }
   ],
   "source": [
    "#local does not have but global has\n",
    "\n",
    "x = 3 # global var\n",
    "\n",
    "def fun():\n",
    "    \n",
    "    print(\"local var :\",x)\n",
    "    \n",
    "fun()\n",
    "\n",
    "print(\"global var\",x)\n",
    "\n",
    "\"\"\"If there is no variable in local than ,interpreter find in global varaible  and \n",
    "local can access global variable \"\"\""
   ]
  },
  {
   "cell_type": "code",
   "execution_count": 8,
   "id": "34981e8e",
   "metadata": {},
   "outputs": [
    {
     "ename": "UnboundLocalError",
     "evalue": "cannot access local variable 'x' where it is not associated with a value",
     "output_type": "error",
     "traceback": [
      "\u001b[1;31m---------------------------------------------------------------------------\u001b[0m",
      "\u001b[1;31mUnboundLocalError\u001b[0m                         Traceback (most recent call last)",
      "Cell \u001b[1;32mIn[8], line 10\u001b[0m\n\u001b[0;32m      7\u001b[0m     x \u001b[38;5;241m+\u001b[39m\u001b[38;5;241m=\u001b[39m\u001b[38;5;241m1\u001b[39m\n\u001b[0;32m      8\u001b[0m     \u001b[38;5;28mprint\u001b[39m(\u001b[38;5;124m\"\u001b[39m\u001b[38;5;124mlocal var :\u001b[39m\u001b[38;5;124m\"\u001b[39m,x)\n\u001b[1;32m---> 10\u001b[0m fun()\n\u001b[0;32m     12\u001b[0m \u001b[38;5;28mprint\u001b[39m(\u001b[38;5;124m\"\u001b[39m\u001b[38;5;124mglobal var\u001b[39m\u001b[38;5;124m\"\u001b[39m,x)\n",
      "Cell \u001b[1;32mIn[8], line 7\u001b[0m, in \u001b[0;36mfun\u001b[1;34m()\u001b[0m\n\u001b[0;32m      6\u001b[0m \u001b[38;5;28;01mdef\u001b[39;00m \u001b[38;5;21mfun\u001b[39m():\n\u001b[1;32m----> 7\u001b[0m     x \u001b[38;5;241m+\u001b[39m\u001b[38;5;241m=\u001b[39m\u001b[38;5;241m1\u001b[39m\n\u001b[0;32m      8\u001b[0m     \u001b[38;5;28mprint\u001b[39m(\u001b[38;5;124m\"\u001b[39m\u001b[38;5;124mlocal var :\u001b[39m\u001b[38;5;124m\"\u001b[39m,x)\n",
      "\u001b[1;31mUnboundLocalError\u001b[0m: cannot access local variable 'x' where it is not associated with a value"
     ]
    }
   ],
   "source": [
    "#local does not have but global has\n",
    "\n",
    "x = 3 # global var\n",
    "\n",
    "def fun():\n",
    "    x +=1\n",
    "    print(\"local var :\",x)\n",
    "    \n",
    "fun()\n",
    "\n",
    "print(\"global var\",x)\n",
    "\n",
    "# local can access global variable but you can change only read "
   ]
  },
  {
   "cell_type": "code",
   "execution_count": 10,
   "id": "432e33aa",
   "metadata": {},
   "outputs": [
    {
     "name": "stdout",
     "output_type": "stream",
     "text": [
      "local var : 4\n",
      "global var 4\n"
     ]
    }
   ],
   "source": [
    "# local and global -\n",
    "#local does not have but global has\n",
    "\n",
    "x = 3 # global var\n",
    "\n",
    "def fun():\n",
    "    \n",
    "    global x\n",
    "    x +=1\n",
    "    print(\"local var :\",x)\n",
    "    \n",
    "fun()\n",
    "\n",
    "print(\"global var\",x)\n",
    "\n",
    "\"\"\" local can access global variable but you can change only read ,\n",
    "but you can change by global keyword \"\"\""
   ]
  },
  {
   "cell_type": "code",
   "execution_count": 12,
   "id": "05360d9a",
   "metadata": {},
   "outputs": [
    {
     "name": "stdout",
     "output_type": "stream",
     "text": [
      "local var : 1\n",
      "global var 3\n"
     ]
    },
    {
     "ename": "NameError",
     "evalue": "name 'y' is not defined",
     "output_type": "error",
     "traceback": [
      "\u001b[1;31m---------------------------------------------------------------------------\u001b[0m",
      "\u001b[1;31mNameError\u001b[0m                                 Traceback (most recent call last)",
      "Cell \u001b[1;32mIn[12], line 13\u001b[0m\n\u001b[0;32m     10\u001b[0m fun()\n\u001b[0;32m     12\u001b[0m \u001b[38;5;28mprint\u001b[39m(\u001b[38;5;124m\"\u001b[39m\u001b[38;5;124mglobal var\u001b[39m\u001b[38;5;124m\"\u001b[39m,x)\n\u001b[1;32m---> 13\u001b[0m \u001b[38;5;28mprint\u001b[39m(\u001b[38;5;124m\"\u001b[39m\u001b[38;5;124mlocal var :\u001b[39m\u001b[38;5;124m\"\u001b[39m,y)\n",
      "\u001b[1;31mNameError\u001b[0m: name 'y' is not defined"
     ]
    }
   ],
   "source": [
    "# can accessed local variable outside the function\n",
    "\n",
    "x = 3 # global var\n",
    "\n",
    "def fun():\n",
    "    \n",
    "    y = 1 # local var\n",
    "    print(\"local var :\",y)\n",
    "    \n",
    "fun()\n",
    "\n",
    "print(\"global var\",x)\n",
    "print(\"local var :\",y)\n",
    "\n",
    "# local cannot be accessed outside the function "
   ]
  },
  {
   "cell_type": "markdown",
   "id": "7a132e36",
   "metadata": {},
   "source": [
    "### Built-in scope:"
   ]
  },
  {
   "cell_type": "code",
   "execution_count": 16,
   "id": "b3b0c25a",
   "metadata": {},
   "outputs": [
    {
     "name": "stdout",
     "output_type": "stream",
     "text": [
      "['ArithmeticError', 'AssertionError', 'AttributeError', 'BaseException', 'BaseExceptionGroup', 'BlockingIOError', 'BrokenPipeError', 'BufferError', 'BytesWarning', 'ChildProcessError', 'ConnectionAbortedError', 'ConnectionError', 'ConnectionRefusedError', 'ConnectionResetError', 'DeprecationWarning', 'EOFError', 'Ellipsis', 'EncodingWarning', 'EnvironmentError', 'Exception', 'ExceptionGroup', 'False', 'FileExistsError', 'FileNotFoundError', 'FloatingPointError', 'FutureWarning', 'GeneratorExit', 'IOError', 'ImportError', 'ImportWarning', 'IndentationError', 'IndexError', 'InterruptedError', 'IsADirectoryError', 'KeyError', 'KeyboardInterrupt', 'LookupError', 'MemoryError', 'ModuleNotFoundError', 'NameError', 'None', 'NotADirectoryError', 'NotImplemented', 'NotImplementedError', 'OSError', 'OverflowError', 'PendingDeprecationWarning', 'PermissionError', 'ProcessLookupError', 'RecursionError', 'ReferenceError', 'ResourceWarning', 'RuntimeError', 'RuntimeWarning', 'StopAsyncIteration', 'StopIteration', 'SyntaxError', 'SyntaxWarning', 'SystemError', 'SystemExit', 'TabError', 'TimeoutError', 'True', 'TypeError', 'UnboundLocalError', 'UnicodeDecodeError', 'UnicodeEncodeError', 'UnicodeError', 'UnicodeTranslateError', 'UnicodeWarning', 'UserWarning', 'ValueError', 'Warning', 'WindowsError', 'ZeroDivisionError', '__IPYTHON__', '__build_class__', '__debug__', '__doc__', '__import__', '__loader__', '__name__', '__package__', '__spec__', 'abs', 'aiter', 'all', 'anext', 'any', 'ascii', 'bin', 'bool', 'breakpoint', 'bytearray', 'bytes', 'callable', 'chr', 'classmethod', 'compile', 'complex', 'copyright', 'credits', 'delattr', 'dict', 'dir', 'display', 'divmod', 'enumerate', 'eval', 'exec', 'execfile', 'filter', 'float', 'format', 'frozenset', 'get_ipython', 'getattr', 'globals', 'hasattr', 'hash', 'help', 'hex', 'id', 'input', 'int', 'isinstance', 'issubclass', 'iter', 'len', 'license', 'list', 'locals', 'map', 'max', 'memoryview', 'min', 'next', 'object', 'oct', 'open', 'ord', 'pow', 'print', 'property', 'range', 'repr', 'reversed', 'round', 'runfile', 'set', 'setattr', 'slice', 'sorted', 'staticmethod', 'str', 'sum', 'super', 'tuple', 'type', 'vars', 'zip']\n"
     ]
    }
   ],
   "source": [
    "# all built in scope\n",
    "import builtins\n",
    "print(dir(builtins))"
   ]
  },
  {
   "cell_type": "code",
   "execution_count": 17,
   "id": "a5e6e88c",
   "metadata": {},
   "outputs": [
    {
     "name": "stdout",
     "output_type": "stream",
     "text": [
      "Hello, World!\n",
      "Length: 5\n",
      "Number: 123\n",
      "Caught an exception: division by zero\n",
      "x is None: True\n",
      "Truth value: True\n"
     ]
    }
   ],
   "source": [
    "# built-in functions\n",
    "print(\"Hello, World!\")  # prints a string\n",
    "\n",
    "length = len(\"Hello\")  # returns the length of the string\n",
    "print(\"Length:\", length)\n",
    "\n",
    "number = int(\"123\")  # converts a string to an integer\n",
    "print(\"Number:\", number)\n",
    "\n",
    "# built-in exceptions\n",
    "try:\n",
    "    result = 10 / 0  # this will raise a ZeroDivisionError\n",
    "except ZeroDivisionError as e:\n",
    "    print(\"Caught an exception:\", e)\n",
    "\n",
    "# built-in constants\n",
    "x = None  # assigning None to a variable\n",
    "print(\"x is None:\", x is None)\n",
    "\n",
    "truth_value = True  # boolean value\n",
    "print(\"Truth value:\", truth_value)\n"
   ]
  },
  {
   "cell_type": "markdown",
   "id": "405b46c6",
   "metadata": {},
   "source": [
    "### Enclosing Scope"
   ]
  },
  {
   "cell_type": "code",
   "execution_count": 19,
   "id": "6860d6b0",
   "metadata": {},
   "outputs": [
    {
     "name": "stdout",
     "output_type": "stream",
     "text": [
      "I am outside!\n"
     ]
    }
   ],
   "source": [
    "def outer_fun():\n",
    "    outer_var = \"I am outside!\"\n",
    "\n",
    "    def inner_fun():\n",
    "        inner_var = \"I am inside!\"\n",
    "        print(outer_var) \n",
    "    inner_fun()\n",
    "\n",
    "outer_fun()\n"
   ]
  },
  {
   "cell_type": "code",
   "execution_count": 27,
   "id": "048f1066",
   "metadata": {},
   "outputs": [
    {
     "name": "stdout",
     "output_type": "stream",
     "text": [
      "inner fun\n",
      "outer fun\n",
      "main program\n"
     ]
    }
   ],
   "source": [
    "# Enclosing scope\n",
    "def outer(): # enclosing scope (nonlocal)\n",
    "    \n",
    "    def inner(): # local scope\n",
    "        print(\"inner fun\")\n",
    "        \n",
    "    inner()\n",
    "    print('outer fun')\n",
    "\n",
    "\n",
    "outer()\n",
    "print('main program') # global scope "
   ]
  },
  {
   "cell_type": "code",
   "execution_count": 32,
   "id": "e4d44a43",
   "metadata": {},
   "outputs": [
    {
     "name": "stdout",
     "output_type": "stream",
     "text": [
      "inner fun\n",
      "2\n",
      "outer fun\n",
      "main program\n"
     ]
    }
   ],
   "source": [
    "# Enclosing scope\n",
    "def outer(): # enclosing scope (nonlocal)\n",
    "    x=1\n",
    "    def inner(): # local scope\n",
    "        print(\"inner fun\")\n",
    "        x = 2\n",
    "        print(x) # this x is a local variable in inner()\n",
    "    inner()\n",
    "    print('outer fun')\n",
    "\n",
    "x = 3\n",
    "outer()\n",
    "print('main program') # global scope "
   ]
  },
  {
   "cell_type": "code",
   "execution_count": 33,
   "id": "70cbca64",
   "metadata": {},
   "outputs": [
    {
     "name": "stdout",
     "output_type": "stream",
     "text": [
      "inner fun\n",
      "1\n",
      "outer fun\n",
      "main program\n"
     ]
    }
   ],
   "source": [
    "# Enclosing scope\n",
    "def outer(): # enclosing scope (nonlocal)\n",
    "    x=1\n",
    "    def inner(): # local scope\n",
    "        print(\"inner fun\")\n",
    "        print(x) # accessing x from the enclosing scope\n",
    "    inner()\n",
    "    print('outer fun')\n",
    "\n",
    "x = 3\n",
    "outer()\n",
    "print('main program') # global scope \n"
   ]
  },
  {
   "cell_type": "code",
   "execution_count": 34,
   "id": "cc8ff657",
   "metadata": {},
   "outputs": [
    {
     "name": "stdout",
     "output_type": "stream",
     "text": [
      "inner fun\n",
      "3\n",
      "outer fun\n"
     ]
    }
   ],
   "source": [
    "# Enclosing scope\n",
    "def outer(): # enclosing scope (nonlocal)\n",
    "    def inner(): # local scope\n",
    "        print(\"inner fun\")\n",
    "        print(x) # accessing x from the global scope\n",
    "    inner()\n",
    "    print('outer fun')\n",
    "\n",
    "x = 3\n",
    "outer()"
   ]
  }
 ],
 "metadata": {
  "kernelspec": {
   "display_name": "Python 3 (ipykernel)",
   "language": "python",
   "name": "python3"
  },
  "language_info": {
   "codemirror_mode": {
    "name": "ipython",
    "version": 3
   },
   "file_extension": ".py",
   "mimetype": "text/x-python",
   "name": "python",
   "nbconvert_exporter": "python",
   "pygments_lexer": "ipython3",
   "version": "3.11.5"
  }
 },
 "nbformat": 4,
 "nbformat_minor": 5
}
